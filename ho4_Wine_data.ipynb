{
  "cells": [
    {
      "cell_type": "markdown",
      "metadata": {
        "id": "KaXHUmuvM4cH"
      },
      "source": [
        "## Hands-on 4\n",
        "practice data transformation, grouping, and sorting.\n",
        "\n",
        "<img src=\"https://secure.static.meredith.com/crt/store/covers/magazines/nmo/9826_l.jpg\">"
      ]
    },
    {
      "cell_type": "code",
      "execution_count": null,
      "metadata": {
        "id": "Iv968XwaM4cI",
        "outputId": "d8815994-3b7e-41f1-ef3e-7f4ad620b36f",
        "colab": {
          "base_uri": "https://localhost:8080/"
        }
      },
      "outputs": [
        {
          "output_type": "stream",
          "name": "stdout",
          "text": [
            "<class 'pandas.core.frame.DataFrame'>\n",
            "RangeIndex: 65499 entries, 0 to 65498\n",
            "Data columns (total 13 columns):\n",
            " #   Column                 Non-Null Count  Dtype  \n",
            "---  ------                 --------------  -----  \n",
            " 0   country                65467 non-null  object \n",
            " 1   description            65499 non-null  object \n",
            " 2   designation            46588 non-null  object \n",
            " 3   points                 65499 non-null  int64  \n",
            " 4   price                  60829 non-null  float64\n",
            " 5   province               65467 non-null  object \n",
            " 6   region_1               54744 non-null  object \n",
            " 7   region_2               25170 non-null  object \n",
            " 8   taster_name            51856 non-null  object \n",
            " 9   taster_twitter_handle  49467 non-null  object \n",
            " 10  title                  65499 non-null  object \n",
            " 11  variety                65499 non-null  object \n",
            " 12  winery                 65499 non-null  object \n",
            "dtypes: float64(1), int64(1), object(11)\n",
            "memory usage: 6.5+ MB\n"
          ]
        }
      ],
      "source": [
        "csvurl=\"https://gist.githubusercontent.com/clairehq/\" + \\\n",
        "        \"79acab35be50eaf1c383948ed3fd1129/raw/407a02139ae1e134992b90b4b2b8c329b3d73a6a/winemag-data-130k-v2.csv\"\n",
        "import pandas as pd\n",
        "wine = pd.read_csv(csvurl)\n",
        "wine.drop(wine.columns[0], axis=\"columns\", inplace=True)\n",
        "wine.head()\n",
        "wine.info()"
      ]
    },
    {
      "cell_type": "markdown",
      "metadata": {
        "id": "B5icW1ooM4cK"
      },
      "source": [
        "#### Question 1: ####  \n",
        "What is the mean of the points column?"
      ]
    },
    {
      "cell_type": "code",
      "source": [
        "mean_points = wine.points.mean()\n",
        "mean_points"
      ],
      "metadata": {
        "id": "zfLRcH-QNZk8",
        "colab": {
          "base_uri": "https://localhost:8080/"
        },
        "outputId": "7bdd2b7a-146d-4480-a750-bedc67e9871e"
      },
      "execution_count": null,
      "outputs": [
        {
          "output_type": "execute_result",
          "data": {
            "text/plain": [
              "88.43403716087269"
            ]
          },
          "metadata": {},
          "execution_count": 2
        }
      ]
    },
    {
      "cell_type": "markdown",
      "source": [
        "mean of points column is 88.43403716087269\n"
      ],
      "metadata": {
        "id": "enFday2HJVdf"
      }
    },
    {
      "cell_type": "markdown",
      "metadata": {
        "id": "xgUNI-hfM4cK"
      },
      "source": [
        "#### Question 2: ####  \n",
        "How many countries are present in this dataset? (Only count each country once)"
      ]
    },
    {
      "cell_type": "code",
      "source": [
        "unique_countries = wine.country.nunique()\n",
        "unique_countries"
      ],
      "metadata": {
        "id": "3VtO-ngdNau1",
        "colab": {
          "base_uri": "https://localhost:8080/"
        },
        "outputId": "d37c04c4-4ce9-41c5-8e1b-ffb004718b7d"
      },
      "execution_count": null,
      "outputs": [
        {
          "output_type": "execute_result",
          "data": {
            "text/plain": [
              "41"
            ]
          },
          "metadata": {},
          "execution_count": 5
        }
      ]
    },
    {
      "cell_type": "markdown",
      "source": [
        "41 countries in this dataset\n"
      ],
      "metadata": {
        "id": "Z3I96HvKJRFh"
      }
    },
    {
      "cell_type": "markdown",
      "metadata": {
        "id": "o0LDb6ahM4cL"
      },
      "source": [
        "#### Question 3: ####\n",
        "How many times does each country appeared in this dataset? Show each country and the corresponding count (show counts in ascending order)"
      ]
    },
    {
      "cell_type": "code",
      "source": [
        "country_count = wine['country'].value_counts()\n",
        "country_count.sort_values(ascending=True)"
      ],
      "metadata": {
        "id": "tLZ7v1RYNdDm",
        "colab": {
          "base_uri": "https://localhost:8080/"
        },
        "outputId": "ffb14171-4823-4204-f7b5-34c8b57c9146"
      },
      "execution_count": null,
      "outputs": [
        {
          "output_type": "execute_result",
          "data": {
            "text/plain": [
              "Slovakia                      1\n",
              "Bosnia and Herzegovina        1\n",
              "Armenia                       1\n",
              "Luxembourg                    4\n",
              "Switzerland                   4\n",
              "India                         4\n",
              "Ukraine                       5\n",
              "Czech Republic                6\n",
              "Macedonia                     6\n",
              "Cyprus                        6\n",
              "Serbia                        7\n",
              "Peru                          8\n",
              "Morocco                      11\n",
              "Lebanon                      20\n",
              "Moldova                      30\n",
              "Brazil                       31\n",
              "Mexico                       31\n",
              "England                      36\n",
              "Georgia                      37\n",
              "Slovenia                     39\n",
              "Turkey                       43\n",
              "Croatia                      44\n",
              "Uruguay                      61\n",
              "Hungary                      61\n",
              "Romania                      67\n",
              "Bulgaria                     68\n",
              "Canada                      108\n",
              "Greece                      242\n",
              "Israel                      259\n",
              "New Zealand                 733\n",
              "South Africa                737\n",
              "Germany                    1051\n",
              "Australia                  1177\n",
              "Austria                    1635\n",
              "Argentina                  1907\n",
              "Chile                      2258\n",
              "Portugal                   2963\n",
              "Spain                      3409\n",
              "Italy                     10005\n",
              "France                    11174\n",
              "US                        27177\n",
              "Name: country, dtype: int64"
            ]
          },
          "metadata": {},
          "execution_count": 6
        }
      ]
    },
    {
      "cell_type": "markdown",
      "metadata": {
        "id": "OpkB90HkM4cL"
      },
      "source": [
        "#### Question 4: ####\n",
        "Create a variable `adjusted_price` containing the adjusted price which is the price subtracted by the average price. *This is called **\"centering\" transformation** - a method commonly used in the preprocessing step before applying various machine learning algorithms.*"
      ]
    },
    {
      "cell_type": "code",
      "source": [
        "wine['adj_price'] = wine.price - wine.price.mean()\n",
        "wine.adj_price\n",
        "wine[['price', 'adj_price']]"
      ],
      "metadata": {
        "id": "PiNrXHhMNeTD",
        "colab": {
          "base_uri": "https://localhost:8080/",
          "height": 424
        },
        "outputId": "9ff20ae3-3aba-407e-d9d8-864349f537d6"
      },
      "execution_count": null,
      "outputs": [
        {
          "output_type": "execute_result",
          "data": {
            "text/plain": [
              "       price  adj_price\n",
              "0        NaN        NaN\n",
              "1       15.0 -20.232932\n",
              "2       14.0 -21.232932\n",
              "3       13.0 -22.232932\n",
              "4       65.0  29.767068\n",
              "...      ...        ...\n",
              "65494   45.0   9.767068\n",
              "65495   22.0 -13.232932\n",
              "65496   20.0 -15.232932\n",
              "65497   31.0  -4.232932\n",
              "65498   10.0 -25.232932\n",
              "\n",
              "[65499 rows x 2 columns]"
            ],
            "text/html": [
              "\n",
              "  <div id=\"df-cb442094-a1be-4974-9aba-3b575bb0cf32\" class=\"colab-df-container\">\n",
              "    <div>\n",
              "<style scoped>\n",
              "    .dataframe tbody tr th:only-of-type {\n",
              "        vertical-align: middle;\n",
              "    }\n",
              "\n",
              "    .dataframe tbody tr th {\n",
              "        vertical-align: top;\n",
              "    }\n",
              "\n",
              "    .dataframe thead th {\n",
              "        text-align: right;\n",
              "    }\n",
              "</style>\n",
              "<table border=\"1\" class=\"dataframe\">\n",
              "  <thead>\n",
              "    <tr style=\"text-align: right;\">\n",
              "      <th></th>\n",
              "      <th>price</th>\n",
              "      <th>adj_price</th>\n",
              "    </tr>\n",
              "  </thead>\n",
              "  <tbody>\n",
              "    <tr>\n",
              "      <th>0</th>\n",
              "      <td>NaN</td>\n",
              "      <td>NaN</td>\n",
              "    </tr>\n",
              "    <tr>\n",
              "      <th>1</th>\n",
              "      <td>15.0</td>\n",
              "      <td>-20.232932</td>\n",
              "    </tr>\n",
              "    <tr>\n",
              "      <th>2</th>\n",
              "      <td>14.0</td>\n",
              "      <td>-21.232932</td>\n",
              "    </tr>\n",
              "    <tr>\n",
              "      <th>3</th>\n",
              "      <td>13.0</td>\n",
              "      <td>-22.232932</td>\n",
              "    </tr>\n",
              "    <tr>\n",
              "      <th>4</th>\n",
              "      <td>65.0</td>\n",
              "      <td>29.767068</td>\n",
              "    </tr>\n",
              "    <tr>\n",
              "      <th>...</th>\n",
              "      <td>...</td>\n",
              "      <td>...</td>\n",
              "    </tr>\n",
              "    <tr>\n",
              "      <th>65494</th>\n",
              "      <td>45.0</td>\n",
              "      <td>9.767068</td>\n",
              "    </tr>\n",
              "    <tr>\n",
              "      <th>65495</th>\n",
              "      <td>22.0</td>\n",
              "      <td>-13.232932</td>\n",
              "    </tr>\n",
              "    <tr>\n",
              "      <th>65496</th>\n",
              "      <td>20.0</td>\n",
              "      <td>-15.232932</td>\n",
              "    </tr>\n",
              "    <tr>\n",
              "      <th>65497</th>\n",
              "      <td>31.0</td>\n",
              "      <td>-4.232932</td>\n",
              "    </tr>\n",
              "    <tr>\n",
              "      <th>65498</th>\n",
              "      <td>10.0</td>\n",
              "      <td>-25.232932</td>\n",
              "    </tr>\n",
              "  </tbody>\n",
              "</table>\n",
              "<p>65499 rows × 2 columns</p>\n",
              "</div>\n",
              "    <div class=\"colab-df-buttons\">\n",
              "\n",
              "  <div class=\"colab-df-container\">\n",
              "    <button class=\"colab-df-convert\" onclick=\"convertToInteractive('df-cb442094-a1be-4974-9aba-3b575bb0cf32')\"\n",
              "            title=\"Convert this dataframe to an interactive table.\"\n",
              "            style=\"display:none;\">\n",
              "\n",
              "  <svg xmlns=\"http://www.w3.org/2000/svg\" height=\"24px\" viewBox=\"0 -960 960 960\">\n",
              "    <path d=\"M120-120v-720h720v720H120Zm60-500h600v-160H180v160Zm220 220h160v-160H400v160Zm0 220h160v-160H400v160ZM180-400h160v-160H180v160Zm440 0h160v-160H620v160ZM180-180h160v-160H180v160Zm440 0h160v-160H620v160Z\"/>\n",
              "  </svg>\n",
              "    </button>\n",
              "\n",
              "  <style>\n",
              "    .colab-df-container {\n",
              "      display:flex;\n",
              "      gap: 12px;\n",
              "    }\n",
              "\n",
              "    .colab-df-convert {\n",
              "      background-color: #E8F0FE;\n",
              "      border: none;\n",
              "      border-radius: 50%;\n",
              "      cursor: pointer;\n",
              "      display: none;\n",
              "      fill: #1967D2;\n",
              "      height: 32px;\n",
              "      padding: 0 0 0 0;\n",
              "      width: 32px;\n",
              "    }\n",
              "\n",
              "    .colab-df-convert:hover {\n",
              "      background-color: #E2EBFA;\n",
              "      box-shadow: 0px 1px 2px rgba(60, 64, 67, 0.3), 0px 1px 3px 1px rgba(60, 64, 67, 0.15);\n",
              "      fill: #174EA6;\n",
              "    }\n",
              "\n",
              "    .colab-df-buttons div {\n",
              "      margin-bottom: 4px;\n",
              "    }\n",
              "\n",
              "    [theme=dark] .colab-df-convert {\n",
              "      background-color: #3B4455;\n",
              "      fill: #D2E3FC;\n",
              "    }\n",
              "\n",
              "    [theme=dark] .colab-df-convert:hover {\n",
              "      background-color: #434B5C;\n",
              "      box-shadow: 0px 1px 3px 1px rgba(0, 0, 0, 0.15);\n",
              "      filter: drop-shadow(0px 1px 2px rgba(0, 0, 0, 0.3));\n",
              "      fill: #FFFFFF;\n",
              "    }\n",
              "  </style>\n",
              "\n",
              "    <script>\n",
              "      const buttonEl =\n",
              "        document.querySelector('#df-cb442094-a1be-4974-9aba-3b575bb0cf32 button.colab-df-convert');\n",
              "      buttonEl.style.display =\n",
              "        google.colab.kernel.accessAllowed ? 'block' : 'none';\n",
              "\n",
              "      async function convertToInteractive(key) {\n",
              "        const element = document.querySelector('#df-cb442094-a1be-4974-9aba-3b575bb0cf32');\n",
              "        const dataTable =\n",
              "          await google.colab.kernel.invokeFunction('convertToInteractive',\n",
              "                                                    [key], {});\n",
              "        if (!dataTable) return;\n",
              "\n",
              "        const docLinkHtml = 'Like what you see? Visit the ' +\n",
              "          '<a target=\"_blank\" href=https://colab.research.google.com/notebooks/data_table.ipynb>data table notebook</a>'\n",
              "          + ' to learn more about interactive tables.';\n",
              "        element.innerHTML = '';\n",
              "        dataTable['output_type'] = 'display_data';\n",
              "        await google.colab.output.renderOutput(dataTable, element);\n",
              "        const docLink = document.createElement('div');\n",
              "        docLink.innerHTML = docLinkHtml;\n",
              "        element.appendChild(docLink);\n",
              "      }\n",
              "    </script>\n",
              "  </div>\n",
              "\n",
              "\n",
              "<div id=\"df-4e7d647a-5761-4c7b-bbf1-0b5aa9a715e1\">\n",
              "  <button class=\"colab-df-quickchart\" onclick=\"quickchart('df-4e7d647a-5761-4c7b-bbf1-0b5aa9a715e1')\"\n",
              "            title=\"Suggest charts\"\n",
              "            style=\"display:none;\">\n",
              "\n",
              "<svg xmlns=\"http://www.w3.org/2000/svg\" height=\"24px\"viewBox=\"0 0 24 24\"\n",
              "     width=\"24px\">\n",
              "    <g>\n",
              "        <path d=\"M19 3H5c-1.1 0-2 .9-2 2v14c0 1.1.9 2 2 2h14c1.1 0 2-.9 2-2V5c0-1.1-.9-2-2-2zM9 17H7v-7h2v7zm4 0h-2V7h2v10zm4 0h-2v-4h2v4z\"/>\n",
              "    </g>\n",
              "</svg>\n",
              "  </button>\n",
              "\n",
              "<style>\n",
              "  .colab-df-quickchart {\n",
              "      --bg-color: #E8F0FE;\n",
              "      --fill-color: #1967D2;\n",
              "      --hover-bg-color: #E2EBFA;\n",
              "      --hover-fill-color: #174EA6;\n",
              "      --disabled-fill-color: #AAA;\n",
              "      --disabled-bg-color: #DDD;\n",
              "  }\n",
              "\n",
              "  [theme=dark] .colab-df-quickchart {\n",
              "      --bg-color: #3B4455;\n",
              "      --fill-color: #D2E3FC;\n",
              "      --hover-bg-color: #434B5C;\n",
              "      --hover-fill-color: #FFFFFF;\n",
              "      --disabled-bg-color: #3B4455;\n",
              "      --disabled-fill-color: #666;\n",
              "  }\n",
              "\n",
              "  .colab-df-quickchart {\n",
              "    background-color: var(--bg-color);\n",
              "    border: none;\n",
              "    border-radius: 50%;\n",
              "    cursor: pointer;\n",
              "    display: none;\n",
              "    fill: var(--fill-color);\n",
              "    height: 32px;\n",
              "    padding: 0;\n",
              "    width: 32px;\n",
              "  }\n",
              "\n",
              "  .colab-df-quickchart:hover {\n",
              "    background-color: var(--hover-bg-color);\n",
              "    box-shadow: 0 1px 2px rgba(60, 64, 67, 0.3), 0 1px 3px 1px rgba(60, 64, 67, 0.15);\n",
              "    fill: var(--button-hover-fill-color);\n",
              "  }\n",
              "\n",
              "  .colab-df-quickchart-complete:disabled,\n",
              "  .colab-df-quickchart-complete:disabled:hover {\n",
              "    background-color: var(--disabled-bg-color);\n",
              "    fill: var(--disabled-fill-color);\n",
              "    box-shadow: none;\n",
              "  }\n",
              "\n",
              "  .colab-df-spinner {\n",
              "    border: 2px solid var(--fill-color);\n",
              "    border-color: transparent;\n",
              "    border-bottom-color: var(--fill-color);\n",
              "    animation:\n",
              "      spin 1s steps(1) infinite;\n",
              "  }\n",
              "\n",
              "  @keyframes spin {\n",
              "    0% {\n",
              "      border-color: transparent;\n",
              "      border-bottom-color: var(--fill-color);\n",
              "      border-left-color: var(--fill-color);\n",
              "    }\n",
              "    20% {\n",
              "      border-color: transparent;\n",
              "      border-left-color: var(--fill-color);\n",
              "      border-top-color: var(--fill-color);\n",
              "    }\n",
              "    30% {\n",
              "      border-color: transparent;\n",
              "      border-left-color: var(--fill-color);\n",
              "      border-top-color: var(--fill-color);\n",
              "      border-right-color: var(--fill-color);\n",
              "    }\n",
              "    40% {\n",
              "      border-color: transparent;\n",
              "      border-right-color: var(--fill-color);\n",
              "      border-top-color: var(--fill-color);\n",
              "    }\n",
              "    60% {\n",
              "      border-color: transparent;\n",
              "      border-right-color: var(--fill-color);\n",
              "    }\n",
              "    80% {\n",
              "      border-color: transparent;\n",
              "      border-right-color: var(--fill-color);\n",
              "      border-bottom-color: var(--fill-color);\n",
              "    }\n",
              "    90% {\n",
              "      border-color: transparent;\n",
              "      border-bottom-color: var(--fill-color);\n",
              "    }\n",
              "  }\n",
              "</style>\n",
              "\n",
              "  <script>\n",
              "    async function quickchart(key) {\n",
              "      const quickchartButtonEl =\n",
              "        document.querySelector('#' + key + ' button');\n",
              "      quickchartButtonEl.disabled = true;  // To prevent multiple clicks.\n",
              "      quickchartButtonEl.classList.add('colab-df-spinner');\n",
              "      try {\n",
              "        const charts = await google.colab.kernel.invokeFunction(\n",
              "            'suggestCharts', [key], {});\n",
              "      } catch (error) {\n",
              "        console.error('Error during call to suggestCharts:', error);\n",
              "      }\n",
              "      quickchartButtonEl.classList.remove('colab-df-spinner');\n",
              "      quickchartButtonEl.classList.add('colab-df-quickchart-complete');\n",
              "    }\n",
              "    (() => {\n",
              "      let quickchartButtonEl =\n",
              "        document.querySelector('#df-4e7d647a-5761-4c7b-bbf1-0b5aa9a715e1 button');\n",
              "      quickchartButtonEl.style.display =\n",
              "        google.colab.kernel.accessAllowed ? 'block' : 'none';\n",
              "    })();\n",
              "  </script>\n",
              "</div>\n",
              "    </div>\n",
              "  </div>\n"
            ],
            "application/vnd.google.colaboratory.intrinsic+json": {
              "type": "dataframe",
              "summary": "{\n  \"name\": \"wine[['price', 'adj_price']]\",\n  \"rows\": 65499,\n  \"fields\": [\n    {\n      \"column\": \"price\",\n      \"properties\": {\n        \"dtype\": \"number\",\n        \"std\": 39.477857833796,\n        \"min\": 4.0,\n        \"max\": 2500.0,\n        \"samples\": [\n          171.0,\n          30.0,\n          125.0\n        ],\n        \"num_unique_values\": 312,\n        \"semantic_type\": \"\",\n        \"description\": \"\"\n      }\n    },\n    {\n      \"column\": \"adj_price\",\n      \"properties\": {\n        \"dtype\": \"number\",\n        \"std\": 39.477857833796,\n        \"min\": -31.232931660885434,\n        \"max\": 2464.7670683391148,\n        \"samples\": [\n          135.76706833911456,\n          -5.232931660885434,\n          89.76706833911456\n        ],\n        \"num_unique_values\": 312,\n        \"semantic_type\": \"\",\n        \"description\": \"\"\n      }\n    }\n  ]\n}"
            }
          },
          "metadata": {},
          "execution_count": 7
        }
      ]
    },
    {
      "cell_type": "markdown",
      "metadata": {
        "id": "AkOtVGS6M4cL"
      },
      "source": [
        "#### Question 5: ####\n",
        "What is the title of the wine that has the highest points-to-price ratio in the dataset?"
      ]
    },
    {
      "cell_type": "code",
      "source": [
        "wine['points_to_price'] = wine.points / wine.price\n",
        "\n",
        "highest_ppr = wine.groupby('title').points_to_price.max().idxmax()\n",
        "print('The title of the wine that has the highest points-to-price ratio: '\n",
        " + highest_ppr)\n",
        "\n"
      ],
      "metadata": {
        "id": "M493qpX7NfjD",
        "colab": {
          "base_uri": "https://localhost:8080/"
        },
        "outputId": "173d1bc9-ce19-42e9-a983-abf77c355f64"
      },
      "execution_count": null,
      "outputs": [
        {
          "output_type": "stream",
          "name": "stdout",
          "text": [
            "The title of the wine that has the highest points-to-price ratio: Bandit NV Merlot (California)\n"
          ]
        }
      ]
    },
    {
      "cell_type": "markdown",
      "source": [
        " Bandit NV Merlot (California)"
      ],
      "metadata": {
        "id": "31jJwsivOs7D"
      }
    },
    {
      "cell_type": "markdown",
      "source": [],
      "metadata": {
        "id": "5UfMT0pCOq1c"
      }
    },
    {
      "cell_type": "markdown",
      "metadata": {
        "id": "Zqt78i-eM4cL"
      },
      "source": [
        "#### Question 6: ####\n",
        "Create a series `flavor_counts` that contains two values: the number of wines that has the word \"tart\" in the `description` column and the number of wines that has the word \"berries\" in the `description` column. The index of the Series should be \"Tart\" and \"Berries\" for the corresponding values."
      ]
    },
    {
      "cell_type": "code",
      "execution_count": null,
      "metadata": {
        "id": "uzqdreKSM4cM",
        "colab": {
          "base_uri": "https://localhost:8080/"
        },
        "outputId": "949b4619-c79a-4338-b9e5-a731f9d544e7"
      },
      "outputs": [
        {
          "output_type": "execute_result",
          "data": {
            "text/plain": [
              "Tart       3086\n",
              "Berries    1192\n",
              "dtype: int64"
            ]
          },
          "metadata": {},
          "execution_count": 16
        }
      ],
      "source": [
        "# Look for the word \"tart\", not case sensitive, not a substring of another word.\n",
        "# Same applies to the word \"berries\"\n",
        "tart = wine['description'].str.contains(r'\\bTart\\b', case=False)\n",
        "berries = wine['description'].str.contains(r'\\bBerries\\b', case=False)\n",
        "tart_count = tart.sum()\n",
        "berries_count = berries.sum()\n",
        "#series flavour count with index as tart and berries\n",
        "flavour_count = pd.Series([tart_count, berries_count], index=['Tart', 'Berries'])\n",
        "flavour_count\n"
      ]
    },
    {
      "cell_type": "markdown",
      "metadata": {
        "id": "wSVdmOw9M4cM"
      },
      "source": [
        "#### Question 7: ####\n",
        "Let's convert the points into simple star ratings. A score of 90 or higher counts as 3 stars, a score of at least 80 but less than 90 is 2 stars. Any other score is 1 star.\n",
        "\n",
        "Also, any wines from France should automatically get 3 stars, regardless of points.\n",
        "\n",
        "Add this new column `star_ratings` to the dataframe with the number of stars for each wine in the dataset."
      ]
    },
    {
      "cell_type": "code",
      "execution_count": null,
      "metadata": {
        "id": "yOucjOJZM4cN",
        "colab": {
          "base_uri": "https://localhost:8080/",
          "height": 424
        },
        "outputId": "912f0119-6b2d-4412-a538-1dcb7086648e"
      },
      "outputs": [
        {
          "output_type": "execute_result",
          "data": {
            "text/plain": [
              "                                                   title    country  points  \\\n",
              "0                      Nicosia 2013 Vulkà Bianco  (Etna)      Italy      87   \n",
              "1          Quinta dos Avidagos 2011 Avidagos Red (Douro)   Portugal      87   \n",
              "2          Rainstorm 2013 Pinot Gris (Willamette Valley)         US      87   \n",
              "3      St. Julian 2013 Reserve Late Harvest Riesling ...         US      87   \n",
              "4      Sweet Cheeks 2012 Vintner's Reserve Wild Child...         US      87   \n",
              "...                                                  ...        ...     ...   \n",
              "65494  William Fèvre 2005 Fourchaume Premier Cru  (Ch...     France      90   \n",
              "65495    Tapestry 2005 Cabernet Sauvignon (McLaren Vale)  Australia      90   \n",
              "65496  Fritz 2006 Estate Sauvignon Blanc (Dry Creek V...         US      90   \n",
              "65497       Hendry 2004 Block 24 Primitivo (Napa Valley)         US      90   \n",
              "65498  Bodegas Dios Baco S.L. NV Manzanilla Sherry (J...      Spain      90   \n",
              "\n",
              "       star_ratings  \n",
              "0                 2  \n",
              "1                 2  \n",
              "2                 2  \n",
              "3                 2  \n",
              "4                 2  \n",
              "...             ...  \n",
              "65494             3  \n",
              "65495             3  \n",
              "65496             3  \n",
              "65497             3  \n",
              "65498             3  \n",
              "\n",
              "[65499 rows x 4 columns]"
            ],
            "text/html": [
              "\n",
              "  <div id=\"df-82b715a3-36a1-4d30-b65d-e24691560bb8\" class=\"colab-df-container\">\n",
              "    <div>\n",
              "<style scoped>\n",
              "    .dataframe tbody tr th:only-of-type {\n",
              "        vertical-align: middle;\n",
              "    }\n",
              "\n",
              "    .dataframe tbody tr th {\n",
              "        vertical-align: top;\n",
              "    }\n",
              "\n",
              "    .dataframe thead th {\n",
              "        text-align: right;\n",
              "    }\n",
              "</style>\n",
              "<table border=\"1\" class=\"dataframe\">\n",
              "  <thead>\n",
              "    <tr style=\"text-align: right;\">\n",
              "      <th></th>\n",
              "      <th>title</th>\n",
              "      <th>country</th>\n",
              "      <th>points</th>\n",
              "      <th>star_ratings</th>\n",
              "    </tr>\n",
              "  </thead>\n",
              "  <tbody>\n",
              "    <tr>\n",
              "      <th>0</th>\n",
              "      <td>Nicosia 2013 Vulkà Bianco  (Etna)</td>\n",
              "      <td>Italy</td>\n",
              "      <td>87</td>\n",
              "      <td>2</td>\n",
              "    </tr>\n",
              "    <tr>\n",
              "      <th>1</th>\n",
              "      <td>Quinta dos Avidagos 2011 Avidagos Red (Douro)</td>\n",
              "      <td>Portugal</td>\n",
              "      <td>87</td>\n",
              "      <td>2</td>\n",
              "    </tr>\n",
              "    <tr>\n",
              "      <th>2</th>\n",
              "      <td>Rainstorm 2013 Pinot Gris (Willamette Valley)</td>\n",
              "      <td>US</td>\n",
              "      <td>87</td>\n",
              "      <td>2</td>\n",
              "    </tr>\n",
              "    <tr>\n",
              "      <th>3</th>\n",
              "      <td>St. Julian 2013 Reserve Late Harvest Riesling ...</td>\n",
              "      <td>US</td>\n",
              "      <td>87</td>\n",
              "      <td>2</td>\n",
              "    </tr>\n",
              "    <tr>\n",
              "      <th>4</th>\n",
              "      <td>Sweet Cheeks 2012 Vintner's Reserve Wild Child...</td>\n",
              "      <td>US</td>\n",
              "      <td>87</td>\n",
              "      <td>2</td>\n",
              "    </tr>\n",
              "    <tr>\n",
              "      <th>...</th>\n",
              "      <td>...</td>\n",
              "      <td>...</td>\n",
              "      <td>...</td>\n",
              "      <td>...</td>\n",
              "    </tr>\n",
              "    <tr>\n",
              "      <th>65494</th>\n",
              "      <td>William Fèvre 2005 Fourchaume Premier Cru  (Ch...</td>\n",
              "      <td>France</td>\n",
              "      <td>90</td>\n",
              "      <td>3</td>\n",
              "    </tr>\n",
              "    <tr>\n",
              "      <th>65495</th>\n",
              "      <td>Tapestry 2005 Cabernet Sauvignon (McLaren Vale)</td>\n",
              "      <td>Australia</td>\n",
              "      <td>90</td>\n",
              "      <td>3</td>\n",
              "    </tr>\n",
              "    <tr>\n",
              "      <th>65496</th>\n",
              "      <td>Fritz 2006 Estate Sauvignon Blanc (Dry Creek V...</td>\n",
              "      <td>US</td>\n",
              "      <td>90</td>\n",
              "      <td>3</td>\n",
              "    </tr>\n",
              "    <tr>\n",
              "      <th>65497</th>\n",
              "      <td>Hendry 2004 Block 24 Primitivo (Napa Valley)</td>\n",
              "      <td>US</td>\n",
              "      <td>90</td>\n",
              "      <td>3</td>\n",
              "    </tr>\n",
              "    <tr>\n",
              "      <th>65498</th>\n",
              "      <td>Bodegas Dios Baco S.L. NV Manzanilla Sherry (J...</td>\n",
              "      <td>Spain</td>\n",
              "      <td>90</td>\n",
              "      <td>3</td>\n",
              "    </tr>\n",
              "  </tbody>\n",
              "</table>\n",
              "<p>65499 rows × 4 columns</p>\n",
              "</div>\n",
              "    <div class=\"colab-df-buttons\">\n",
              "\n",
              "  <div class=\"colab-df-container\">\n",
              "    <button class=\"colab-df-convert\" onclick=\"convertToInteractive('df-82b715a3-36a1-4d30-b65d-e24691560bb8')\"\n",
              "            title=\"Convert this dataframe to an interactive table.\"\n",
              "            style=\"display:none;\">\n",
              "\n",
              "  <svg xmlns=\"http://www.w3.org/2000/svg\" height=\"24px\" viewBox=\"0 -960 960 960\">\n",
              "    <path d=\"M120-120v-720h720v720H120Zm60-500h600v-160H180v160Zm220 220h160v-160H400v160Zm0 220h160v-160H400v160ZM180-400h160v-160H180v160Zm440 0h160v-160H620v160ZM180-180h160v-160H180v160Zm440 0h160v-160H620v160Z\"/>\n",
              "  </svg>\n",
              "    </button>\n",
              "\n",
              "  <style>\n",
              "    .colab-df-container {\n",
              "      display:flex;\n",
              "      gap: 12px;\n",
              "    }\n",
              "\n",
              "    .colab-df-convert {\n",
              "      background-color: #E8F0FE;\n",
              "      border: none;\n",
              "      border-radius: 50%;\n",
              "      cursor: pointer;\n",
              "      display: none;\n",
              "      fill: #1967D2;\n",
              "      height: 32px;\n",
              "      padding: 0 0 0 0;\n",
              "      width: 32px;\n",
              "    }\n",
              "\n",
              "    .colab-df-convert:hover {\n",
              "      background-color: #E2EBFA;\n",
              "      box-shadow: 0px 1px 2px rgba(60, 64, 67, 0.3), 0px 1px 3px 1px rgba(60, 64, 67, 0.15);\n",
              "      fill: #174EA6;\n",
              "    }\n",
              "\n",
              "    .colab-df-buttons div {\n",
              "      margin-bottom: 4px;\n",
              "    }\n",
              "\n",
              "    [theme=dark] .colab-df-convert {\n",
              "      background-color: #3B4455;\n",
              "      fill: #D2E3FC;\n",
              "    }\n",
              "\n",
              "    [theme=dark] .colab-df-convert:hover {\n",
              "      background-color: #434B5C;\n",
              "      box-shadow: 0px 1px 3px 1px rgba(0, 0, 0, 0.15);\n",
              "      filter: drop-shadow(0px 1px 2px rgba(0, 0, 0, 0.3));\n",
              "      fill: #FFFFFF;\n",
              "    }\n",
              "  </style>\n",
              "\n",
              "    <script>\n",
              "      const buttonEl =\n",
              "        document.querySelector('#df-82b715a3-36a1-4d30-b65d-e24691560bb8 button.colab-df-convert');\n",
              "      buttonEl.style.display =\n",
              "        google.colab.kernel.accessAllowed ? 'block' : 'none';\n",
              "\n",
              "      async function convertToInteractive(key) {\n",
              "        const element = document.querySelector('#df-82b715a3-36a1-4d30-b65d-e24691560bb8');\n",
              "        const dataTable =\n",
              "          await google.colab.kernel.invokeFunction('convertToInteractive',\n",
              "                                                    [key], {});\n",
              "        if (!dataTable) return;\n",
              "\n",
              "        const docLinkHtml = 'Like what you see? Visit the ' +\n",
              "          '<a target=\"_blank\" href=https://colab.research.google.com/notebooks/data_table.ipynb>data table notebook</a>'\n",
              "          + ' to learn more about interactive tables.';\n",
              "        element.innerHTML = '';\n",
              "        dataTable['output_type'] = 'display_data';\n",
              "        await google.colab.output.renderOutput(dataTable, element);\n",
              "        const docLink = document.createElement('div');\n",
              "        docLink.innerHTML = docLinkHtml;\n",
              "        element.appendChild(docLink);\n",
              "      }\n",
              "    </script>\n",
              "  </div>\n",
              "\n",
              "\n",
              "<div id=\"df-de178ab4-8882-454c-a616-64732bfbf0a8\">\n",
              "  <button class=\"colab-df-quickchart\" onclick=\"quickchart('df-de178ab4-8882-454c-a616-64732bfbf0a8')\"\n",
              "            title=\"Suggest charts\"\n",
              "            style=\"display:none;\">\n",
              "\n",
              "<svg xmlns=\"http://www.w3.org/2000/svg\" height=\"24px\"viewBox=\"0 0 24 24\"\n",
              "     width=\"24px\">\n",
              "    <g>\n",
              "        <path d=\"M19 3H5c-1.1 0-2 .9-2 2v14c0 1.1.9 2 2 2h14c1.1 0 2-.9 2-2V5c0-1.1-.9-2-2-2zM9 17H7v-7h2v7zm4 0h-2V7h2v10zm4 0h-2v-4h2v4z\"/>\n",
              "    </g>\n",
              "</svg>\n",
              "  </button>\n",
              "\n",
              "<style>\n",
              "  .colab-df-quickchart {\n",
              "      --bg-color: #E8F0FE;\n",
              "      --fill-color: #1967D2;\n",
              "      --hover-bg-color: #E2EBFA;\n",
              "      --hover-fill-color: #174EA6;\n",
              "      --disabled-fill-color: #AAA;\n",
              "      --disabled-bg-color: #DDD;\n",
              "  }\n",
              "\n",
              "  [theme=dark] .colab-df-quickchart {\n",
              "      --bg-color: #3B4455;\n",
              "      --fill-color: #D2E3FC;\n",
              "      --hover-bg-color: #434B5C;\n",
              "      --hover-fill-color: #FFFFFF;\n",
              "      --disabled-bg-color: #3B4455;\n",
              "      --disabled-fill-color: #666;\n",
              "  }\n",
              "\n",
              "  .colab-df-quickchart {\n",
              "    background-color: var(--bg-color);\n",
              "    border: none;\n",
              "    border-radius: 50%;\n",
              "    cursor: pointer;\n",
              "    display: none;\n",
              "    fill: var(--fill-color);\n",
              "    height: 32px;\n",
              "    padding: 0;\n",
              "    width: 32px;\n",
              "  }\n",
              "\n",
              "  .colab-df-quickchart:hover {\n",
              "    background-color: var(--hover-bg-color);\n",
              "    box-shadow: 0 1px 2px rgba(60, 64, 67, 0.3), 0 1px 3px 1px rgba(60, 64, 67, 0.15);\n",
              "    fill: var(--button-hover-fill-color);\n",
              "  }\n",
              "\n",
              "  .colab-df-quickchart-complete:disabled,\n",
              "  .colab-df-quickchart-complete:disabled:hover {\n",
              "    background-color: var(--disabled-bg-color);\n",
              "    fill: var(--disabled-fill-color);\n",
              "    box-shadow: none;\n",
              "  }\n",
              "\n",
              "  .colab-df-spinner {\n",
              "    border: 2px solid var(--fill-color);\n",
              "    border-color: transparent;\n",
              "    border-bottom-color: var(--fill-color);\n",
              "    animation:\n",
              "      spin 1s steps(1) infinite;\n",
              "  }\n",
              "\n",
              "  @keyframes spin {\n",
              "    0% {\n",
              "      border-color: transparent;\n",
              "      border-bottom-color: var(--fill-color);\n",
              "      border-left-color: var(--fill-color);\n",
              "    }\n",
              "    20% {\n",
              "      border-color: transparent;\n",
              "      border-left-color: var(--fill-color);\n",
              "      border-top-color: var(--fill-color);\n",
              "    }\n",
              "    30% {\n",
              "      border-color: transparent;\n",
              "      border-left-color: var(--fill-color);\n",
              "      border-top-color: var(--fill-color);\n",
              "      border-right-color: var(--fill-color);\n",
              "    }\n",
              "    40% {\n",
              "      border-color: transparent;\n",
              "      border-right-color: var(--fill-color);\n",
              "      border-top-color: var(--fill-color);\n",
              "    }\n",
              "    60% {\n",
              "      border-color: transparent;\n",
              "      border-right-color: var(--fill-color);\n",
              "    }\n",
              "    80% {\n",
              "      border-color: transparent;\n",
              "      border-right-color: var(--fill-color);\n",
              "      border-bottom-color: var(--fill-color);\n",
              "    }\n",
              "    90% {\n",
              "      border-color: transparent;\n",
              "      border-bottom-color: var(--fill-color);\n",
              "    }\n",
              "  }\n",
              "</style>\n",
              "\n",
              "  <script>\n",
              "    async function quickchart(key) {\n",
              "      const quickchartButtonEl =\n",
              "        document.querySelector('#' + key + ' button');\n",
              "      quickchartButtonEl.disabled = true;  // To prevent multiple clicks.\n",
              "      quickchartButtonEl.classList.add('colab-df-spinner');\n",
              "      try {\n",
              "        const charts = await google.colab.kernel.invokeFunction(\n",
              "            'suggestCharts', [key], {});\n",
              "      } catch (error) {\n",
              "        console.error('Error during call to suggestCharts:', error);\n",
              "      }\n",
              "      quickchartButtonEl.classList.remove('colab-df-spinner');\n",
              "      quickchartButtonEl.classList.add('colab-df-quickchart-complete');\n",
              "    }\n",
              "    (() => {\n",
              "      let quickchartButtonEl =\n",
              "        document.querySelector('#df-de178ab4-8882-454c-a616-64732bfbf0a8 button');\n",
              "      quickchartButtonEl.style.display =\n",
              "        google.colab.kernel.accessAllowed ? 'block' : 'none';\n",
              "    })();\n",
              "  </script>\n",
              "</div>\n",
              "    </div>\n",
              "  </div>\n"
            ],
            "application/vnd.google.colaboratory.intrinsic+json": {
              "type": "dataframe",
              "summary": "{\n  \"name\": \"wine[['title', 'country', 'points', 'star_ratings']]\",\n  \"rows\": 65499,\n  \"fields\": [\n    {\n      \"column\": \"title\",\n      \"properties\": {\n        \"dtype\": \"string\",\n        \"samples\": [\n          \"Arista 2014 Chardonnay (Russian River Valley)\",\n          \"Aljibes 2012 Syrah (Vino de la Tierra de Castilla)\",\n          \"Stewart Cellars 2016 Ros\\u00e9 (Sonoma Mountain)\"\n        ],\n        \"num_unique_values\": 62466,\n        \"semantic_type\": \"\",\n        \"description\": \"\"\n      }\n    },\n    {\n      \"column\": \"country\",\n      \"properties\": {\n        \"dtype\": \"category\",\n        \"samples\": [\n          \"Uruguay\",\n          \"Hungary\",\n          \"Australia\"\n        ],\n        \"num_unique_values\": 41,\n        \"semantic_type\": \"\",\n        \"description\": \"\"\n      }\n    },\n    {\n      \"column\": \"points\",\n      \"properties\": {\n        \"dtype\": \"number\",\n        \"std\": 3,\n        \"min\": 80,\n        \"max\": 100,\n        \"samples\": [\n          87,\n          93,\n          96\n        ],\n        \"num_unique_values\": 21,\n        \"semantic_type\": \"\",\n        \"description\": \"\"\n      }\n    },\n    {\n      \"column\": \"star_ratings\",\n      \"properties\": {\n        \"dtype\": \"number\",\n        \"std\": 0,\n        \"min\": 2,\n        \"max\": 3,\n        \"samples\": [\n          3,\n          2\n        ],\n        \"num_unique_values\": 2,\n        \"semantic_type\": \"\",\n        \"description\": \"\"\n      }\n    }\n  ]\n}"
            }
          },
          "metadata": {},
          "execution_count": 17
        }
      ],
      "source": [
        "def star_ratings(row):\n",
        "    if row.points >= 90 or row.country == \"France\":\n",
        "        return 3\n",
        "    elif row.points >= 80:\n",
        "        return 2\n",
        "    else:\n",
        "        return 1\n",
        "wine['star_ratings'] = wine.apply(star_ratings, axis=\"columns\")\n",
        "wine[['title', 'country', 'points', 'star_ratings']]\n"
      ]
    },
    {
      "cell_type": "markdown",
      "metadata": {
        "id": "v9btZBA6M4cN"
      },
      "source": [
        "#### Question 8: ####\n",
        "Who are the most common wine reviewers in the dataset? Create a Series whose index is the taster_twitter_handle category from the dataset, and whose values count how many reviews each person wrote."
      ]
    },
    {
      "cell_type": "code",
      "source": [
        "reviewer_counts = wine.groupby(\"taster_twitter_handle\").taster_twitter_handle.count()\n",
        "reviewer_counts.sort_values(ascending=False)\n",
        "print('The most common wine reviewe is ' + reviewer_counts.idxmax())\n",
        "\n",
        "\n"
      ],
      "metadata": {
        "id": "dqsUgtGBNiQZ",
        "colab": {
          "base_uri": "https://localhost:8080/"
        },
        "outputId": "7c4bc800-1b8f-4204-c1ff-97bed5a34a25"
      },
      "execution_count": null,
      "outputs": [
        {
          "output_type": "stream",
          "name": "stdout",
          "text": [
            "The most common wine reviewe is @vossroger\n"
          ]
        }
      ]
    },
    {
      "cell_type": "markdown",
      "metadata": {
        "id": "rIO81pKrM4cN"
      },
      "source": [
        "#### Question 9: ####\n",
        "What combination of countries and varieties are most common? Create a Series whose index is a MultiIndexof {country, variety} pairs. For example, a pinot noir produced in the US should map to {\"US\", \"Pinot Noir\"}. Sort the values in the Series in descending order based on wine count."
      ]
    },
    {
      "cell_type": "code",
      "source": [
        "country_variety_counts = wine.groupby([\"country\", \"variety\"]).size().sort_values(ascending=False)\n",
        "country_variety_counts.head(1)\n",
        "# the most common combination of countries and varieties is US and Pinot Noir\n",
        "print('The most common combination is ' , country_variety_counts.idxmax())\n",
        "country_variety_counts.sort_values(ascending=False)\n",
        "\n"
      ],
      "metadata": {
        "id": "4Is2muZjNjxd",
        "colab": {
          "base_uri": "https://localhost:8080/"
        },
        "outputId": "eb0ebc62-e785-47b5-eeff-e3eedc93401c"
      },
      "execution_count": null,
      "outputs": [
        {
          "output_type": "stream",
          "name": "stdout",
          "text": [
            "The most common combination is  ('US', 'Pinot Noir')\n"
          ]
        },
        {
          "output_type": "execute_result",
          "data": {
            "text/plain": [
              "country  variety                 \n",
              "US       Pinot Noir                  4918\n",
              "         Cabernet Sauvignon          3649\n",
              "         Chardonnay                  3412\n",
              "France   Bordeaux-style Red Blend    2380\n",
              "Italy    Red Blend                   1870\n",
              "                                     ... \n",
              "France   Petite Verdot                  1\n",
              "         Nielluciu                      1\n",
              "         Cabernet                       1\n",
              "England  White Blend                    1\n",
              "Uruguay  Tempranillo-Tannat             1\n",
              "Length: 1304, dtype: int64"
            ]
          },
          "metadata": {},
          "execution_count": 20
        }
      ]
    },
    {
      "cell_type": "markdown",
      "metadata": {
        "id": "C6sj-ABlM4cO"
      },
      "source": [
        "#### Question 10 #####\n",
        "Create a Series whose index is reviewers and whose values is the average score given out by that reviewer. Hint: you will need the `taster_name` and `points` columns."
      ]
    },
    {
      "cell_type": "code",
      "source": [
        "reviewer_mean_ratings = wine.groupby('taster_name').points.mean()\n",
        "reviewer_mean_ratings"
      ],
      "metadata": {
        "id": "QFseCkVwNlAk",
        "colab": {
          "base_uri": "https://localhost:8080/"
        },
        "outputId": "7fe5f40b-7c18-4638-8841-a3a95e6537bc"
      },
      "execution_count": null,
      "outputs": [
        {
          "output_type": "execute_result",
          "data": {
            "text/plain": [
              "taster_name\n",
              "Alexander Peartree    86.014286\n",
              "Anna Lee C. Iijima    88.380506\n",
              "Anne Krebiehl MW      90.587903\n",
              "Carrie Dykes          86.644444\n",
              "Christina Pickard     89.500000\n",
              "Fiona Adams           87.090909\n",
              "Jeff Jenssen          88.273504\n",
              "Jim Gordon            88.604331\n",
              "Joe Czerwinski        88.519770\n",
              "Kerin O’Keefe         88.827969\n",
              "Lauren Buzzeo         87.831557\n",
              "Matt Kettmann         90.021087\n",
              "Michael Schachner     86.904541\n",
              "Mike DeSimone         89.030303\n",
              "Paul Gregutt          89.095032\n",
              "Roger Voss            88.678957\n",
              "Sean P. Sullivan      88.666243\n",
              "Susan Kostrzewa       86.408094\n",
              "Virginie Boone        89.229557\n",
              "Name: points, dtype: float64"
            ]
          },
          "metadata": {},
          "execution_count": 22
        }
      ]
    }
  ],
  "metadata": {
    "kernelspec": {
      "display_name": "Python 3",
      "language": "python",
      "name": "python3"
    },
    "language_info": {
      "codemirror_mode": {
        "name": "ipython",
        "version": 3
      },
      "file_extension": ".py",
      "mimetype": "text/x-python",
      "name": "python",
      "nbconvert_exporter": "python",
      "pygments_lexer": "ipython3",
      "version": "3.7.6"
    },
    "colab": {
      "provenance": []
    }
  },
  "nbformat": 4,
  "nbformat_minor": 0
}